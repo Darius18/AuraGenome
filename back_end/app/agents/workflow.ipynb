{
 "cells": [
  {
   "cell_type": "code",
   "execution_count": 2,
   "metadata": {},
   "outputs": [],
   "source": [
    "from Retriever import use_retriever\n",
    "from Judge import use_judge\n",
    "import json\n"
   ]
  },
  {
   "cell_type": "code",
   "execution_count": 3,
   "metadata": {},
   "outputs": [],
   "source": [
    "def transform_md_to_json(md):\n",
    "    return json.loads(md.replace(\"```json\", \"\").replace(\"```\", \"\"))\n"
   ]
  },
  {
   "cell_type": "code",
   "execution_count": 4,
   "metadata": {},
   "outputs": [],
   "source": [
    "def workflow(query):\n",
    "    \n",
    "    judge = use_judge(query)\n",
    "    # 把judge转换为json\n",
    "    judge = transform_md_to_json(judge)\n",
    "    retriever = use_retriever(query)\n",
    "    \n",
    "    if judge[\"query_type\"] == \"a\": \n",
    "        print(\"chart generation request\")\n",
    "\n",
    "    else: \n",
    "        print(\"chart modification request\")\n",
    "    \n",
    "    print(judge)\n"
   ]
  },
  {
   "cell_type": "code",
   "execution_count": 5,
   "metadata": {},
   "outputs": [
    {
     "name": "stdout",
     "output_type": "stream",
     "text": [
      "chart generation request\n",
      "{'file_name': 'file1.csv', 'chart_type': 'histogram', 'query_type': 'a', 'track_id': ''}\n"
     ]
    }
   ],
   "source": [
    "workflow(\"draw a histogram chart with color deep green, using file1.csv\")\n"
   ]
  },
  {
   "cell_type": "code",
   "execution_count": 6,
   "metadata": {},
   "outputs": [
    {
     "name": "stdout",
     "output_type": "stream",
     "text": [
      "chart modification request\n",
      "{'file_name': '', 'chart_type': '', 'query_type': 'b', 'track_id': 'level3'}\n"
     ]
    }
   ],
   "source": [
    "workflow(\"i wanna set the color of level3 to red and pink\")"
   ]
  }
 ],
 "metadata": {
  "kernelspec": {
   "display_name": "base",
   "language": "python",
   "name": "python3"
  },
  "language_info": {
   "codemirror_mode": {
    "name": "ipython",
    "version": 3
   },
   "file_extension": ".py",
   "mimetype": "text/x-python",
   "name": "python",
   "nbconvert_exporter": "python",
   "pygments_lexer": "ipython3",
   "version": "3.12.7"
  }
 },
 "nbformat": 4,
 "nbformat_minor": 2
}
